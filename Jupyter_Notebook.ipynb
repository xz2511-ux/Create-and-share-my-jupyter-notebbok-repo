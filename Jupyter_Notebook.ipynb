{
  "metadata": {
    "kernelspec": {
      "name": "python",
      "display_name": "Pyolite",
      "language": "python"
    },
    "language_info": {
      "codemirror_mode": {
        "name": "python",
        "version": 3
      },
      "file_extension": ".py",
      "mimetype": "text/x-python",
      "name": "python",
      "nbconvert_exporter": "python",
      "pygments_lexer": "ipython3",
      "version": "3.8"
    }
  },
  "nbformat_minor": 4,
  "nbformat": 4,
  "cells": [
    {
      "cell_type": "markdown",
      "source": "<center>\n    <img src=\"https://cf-courses-data.s3.us.cloud-object-storage.appdomain.cloud/IBMDeveloperSkillsNetwork-DS0105EN-SkillsNetwork/labs/Module2/images/SN_web_lightmode.png\" width=\"300\" alt=\"cognitiveclass.ai logo\">\n</center>\n",
      "metadata": {}
    },
    {
      "cell_type": "markdown",
      "source": "#### Add your code below following the instructions given in the course\n",
      "metadata": {}
    },
    {
      "cell_type": "markdown",
      "source": "# My Jupyter Notebook on IBM Watson Studio",
      "metadata": {}
    },
    {
      "cell_type": "markdown",
      "source": "**Xinwen Zhang**",
      "metadata": {}
    },
    {
      "cell_type": "markdown",
      "source": "Marketing Data Analyst",
      "metadata": {}
    },
    {
      "cell_type": "markdown",
      "source": "*I am intersted in data science because I want to advance my career in the marketing science field by applying data science skills to build models and suggest better marketing strategies based on marketing data. Also becasue data scientist get higher compensation comparing to what I am doing now.*",
      "metadata": {}
    },
    {
      "cell_type": "markdown",
      "source": "### My code would output print results combining text and simple mathematical calculation ###",
      "metadata": {}
    },
    {
      "cell_type": "code",
      "source": "s = '{} {}'.format(\"One plus one equals\", 1+1)\nprint(s)",
      "metadata": {
        "trusted": true
      },
      "execution_count": 1,
      "outputs": [
        {
          "name": "stdout",
          "text": "One plus one equals 2\n",
          "output_type": "stream"
        }
      ]
    },
    {
      "cell_type": "markdown",
      "source": "**** \n* start of bullet list\n* second line of bullet list\n****\n1. numbered list first line\n2. numbered list second line",
      "metadata": {}
    },
    {
      "cell_type": "code",
      "source": "",
      "metadata": {},
      "execution_count": null,
      "outputs": []
    }
  ]
}